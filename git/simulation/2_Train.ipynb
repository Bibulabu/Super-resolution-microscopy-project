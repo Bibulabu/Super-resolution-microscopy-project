{
 "cells": [
  {
   "cell_type": "markdown",
   "metadata": {},
   "source": [
    "# ML-SIM Train"
   ]
  },
  {
   "cell_type": "markdown",
   "metadata": {},
   "source": [
    "This notebook is a wrapper of `run.py`. The command-line interface of `run.py` can be used as well and may be preferred."
   ]
  },
  {
   "cell_type": "markdown",
   "metadata": {},
   "source": [
    "### Imports"
   ]
  },
  {
   "cell_type": "code",
   "execution_count": null,
   "metadata": {},
   "outputs": [],
   "source": [
    "import argparse\n",
    "import run"
   ]
  },
  {
   "cell_type": "markdown",
   "metadata": {},
   "source": [
    "### Options"
   ]
  },
  {
   "cell_type": "code",
   "execution_count": null,
   "metadata": {},
   "outputs": [],
   "source": [
    "opt = argparse.Namespace()\n",
    "\n",
    "opt.root = 'Training_data/SIMdata'\n",
    "opt.out = 'model_output_trial'\n",
    "opt.task = 'simin_gtout'\n",
    "opt.norm = 'minmax'\n",
    "opt.dataset = 'fouriersim'\n",
    "\n",
    "opt.nplot = 5\n",
    "\n",
    "opt.model = 'rcan'\n",
    "opt.lr = 1e-4\n",
    "opt.log = False\n",
    "\n",
    "# data\n",
    "opt.imageSize = 512\n",
    "opt.weights = ''\n",
    "\n",
    "# computation \n",
    "opt.workers = 2\n",
    "opt.batchSize = 1\n",
    "opt.cpu = False\n",
    "\n",
    "# input/output layer options\n",
    "opt.scale = 1\n",
    "opt.nch_in = 9\n",
    "opt.nch_out = 1\n",
    "\n",
    "# architecture options \n",
    "opt.narch = 0\n",
    "opt.n_resblocks = 3\n",
    "opt.n_resgroups = 5\n",
    "opt.reduction = 16\n",
    "opt.n_feats = 48\n",
    "\n",
    "# training\n",
    "opt.ntrain = 75\n",
    "opt.nepoch = 100\n",
    "opt.disposableTrainingData = False\n",
    "opt.saveinterval = 1\n",
    "opt.scheduler = '20,0.5'\n",
    "\n",
    "# test options\n",
    "opt.ntest = 50\n",
    "opt.testinterval = 1\n",
    "opt.test = False\n",
    "opt.batchSize_test = 1\n",
    "opt.plotinterval = 1\n",
    "opt.nplot = 5"
   ]
  },
  {
   "cell_type": "markdown",
   "metadata": {},
   "source": [
    "## Run"
   ]
  },
  {
   "cell_type": "code",
   "execution_count": null,
   "metadata": {},
   "outputs": [],
   "source": [
    "run.main(opt)"
   ]
  }
 ],
 "metadata": {
  "kernelspec": {
   "display_name": "SIM",
   "language": "python",
   "name": "python3"
  },
  "language_info": {
   "codemirror_mode": {
    "name": "ipython",
    "version": 3
   },
   "file_extension": ".py",
   "mimetype": "text/x-python",
   "name": "python",
   "nbconvert_exporter": "python",
   "pygments_lexer": "ipython3",
   "version": "3.10.9"
  }
 },
 "nbformat": 4,
 "nbformat_minor": 4
}
